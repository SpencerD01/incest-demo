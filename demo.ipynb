{
 "cells": [
  {
   "cell_type": "code",
   "execution_count": null,
   "metadata": {},
   "outputs": [],
   "source": [
    "from filterpy.kalman import KalmanFilter\n",
    "from filterpy.common import Q_discrete_white_noise\n",
    "from target import Target\n",
    "import numpy as np\n",
    "\n",
    "# Define our target function.\n",
    "t1 = Target(2., 0.1)\n",
    "\n",
    "# Create a Kalman Filter\n",
    "kf = KalmanFilter(dim_x=2, dim_z=1)\n",
    "\n",
    "# Assign the initial values for the state (position and velocity).\n",
    "kf.x = np.array([2., 0.])\n",
    "\n",
    "# Define the state transition matrix.\n",
    "kf.F = np.array([[1., 1.],\n",
    "                 [0., 1.]])\n",
    "\n",
    "# Define the measurement function.\n",
    "kf.H = np.array([[1., 0.]])\n",
    "\n",
    "# Define the covariance matrix.\n",
    "kf.P = np.array([[1000.,    0.],\n",
    "                 [   0., 1000.]])\n",
    "\n",
    "# Define the measurement noise.\n",
    "kf.R = np.array([5.])\n",
    "\n",
    "# Define the process noise.\n",
    "kf.Q = Q_discrete_white_noise(dim=2, dt=0.1, var=0.13)\n",
    "\n"
   ]
  },
  {
   "cell_type": "code",
   "execution_count": null,
   "metadata": {},
   "outputs": [],
   "source": [
    "# Define our target function.\n",
    "t1 = Target(2., 0.1)\n",
    "\n",
    "# Create a Kalman Filter\n",
    "kf = KalmanFilter(dim_x=2, dim_z=1)\n",
    "\n",
    "# Assign the initial values for the state (position and velocity).\n",
    "kf.x = np.array([2., 0.])\n",
    "\n",
    "# Define the state transition matrix.\n",
    "kf.F = np.array([[1., 1.],\n",
    "                 [0., 1.]])\n",
    "\n",
    "# Define the measurement function.\n",
    "kf.H = np.array([[1., 0.]])\n",
    "\n",
    "# Define the covariance matrix.\n",
    "kf.P = np.array([[1000.,    0.],\n",
    "                 [   0., 1000.]])\n",
    "\n",
    "# Define the measurement noise.\n",
    "kf.R = np.array([5.])\n",
    "\n",
    "# Define the process noise.\n",
    "kf.Q = Q_discrete_white_noise(dim=2, dt=0.1, var=0.13)\n",
    "\n"
   ]
  }
 ],
 "metadata": {
  "language_info": {
   "name": "python"
  }
 },
 "nbformat": 4,
 "nbformat_minor": 2
}
